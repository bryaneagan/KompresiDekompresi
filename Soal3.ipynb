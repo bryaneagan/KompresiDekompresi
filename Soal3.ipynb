{
 "cells": [
  {
   "cell_type": "markdown",
   "metadata": {},
   "source": [
    "## Soal UTS II3150 No 3\n",
    "#### Bryan Eagan 18220041"
   ]
  },
  {
   "cell_type": "code",
   "execution_count": 16,
   "metadata": {},
   "outputs": [],
   "source": [
    "import cv2\n",
    "import numpy as np\n",
    "import matplotlib.pyplot as plt\n",
    "import matplotlib.image as mpimg\n",
    "from scipy import fft\n"
   ]
  },
  {
   "cell_type": "code",
   "execution_count": 17,
   "metadata": {},
   "outputs": [
    {
     "data": {
      "text/plain": [
       "array([[196., 201., 201., ..., 215., 204., 235.],\n",
       "       [201., 202., 202., ..., 228., 206., 205.],\n",
       "       [200., 199., 201., ..., 239., 221., 195.],\n",
       "       ...,\n",
       "       [ 17.,  16.,  18., ..., 165., 165., 163.],\n",
       "       [ 15.,  15.,  16., ..., 137., 141., 141.],\n",
       "       [ 15.,  16.,  15., ..., 119., 120., 120.]])"
      ]
     },
     "execution_count": 17,
     "metadata": {},
     "output_type": "execute_result"
    }
   ],
   "source": [
    "#Konversi RGB menjadi komponen Y\n",
    "img_ori_grey =cv2.imread('Foto_18220041_Bryan Eagan.jpg',0)\n",
    "img_float = img_ori_grey.astype('float')\n",
    "img_float"
   ]
  },
  {
   "cell_type": "code",
   "execution_count": 18,
   "metadata": {},
   "outputs": [
    {
     "data": {
      "text/plain": [
       "array([[202., 188., 180., 190., 207., 220., 224., 222.],\n",
       "       [210., 187., 175., 193., 217., 224., 222., 225.],\n",
       "       [209., 196., 188., 199., 215., 221., 223., 226.],\n",
       "       [200., 205., 206., 203., 205., 216., 224., 224.],\n",
       "       [200., 212., 220., 210., 200., 210., 222., 222.],\n",
       "       [208., 217., 226., 218., 202., 204., 218., 221.],\n",
       "       [216., 220., 227., 228., 218., 206., 201., 200.],\n",
       "       [225., 226., 226., 225., 224., 215., 197., 181.]])"
      ]
     },
     "execution_count": 18,
     "metadata": {},
     "output_type": "execute_result"
    }
   ],
   "source": [
    "#Mengambil bagian kecil dari komponen gambar dan membaginya menjadi macroblock 8x8 pixel\n",
    "makroblok = []\n",
    "for i in range (90,98):\n",
    "    makroblok.append(img_float[i][0:8])\n",
    "makroblok = np.array(makroblok)\n",
    "before = np.array (makroblok)\n",
    "makroblok"
   ]
  },
  {
   "cell_type": "markdown",
   "metadata": {},
   "source": [
    "#### Proses Kompresi"
   ]
  },
  {
   "cell_type": "code",
   "execution_count": 19,
   "metadata": {},
   "outputs": [
    {
     "data": {
      "text/plain": [
       "array([[ 74.,  60.,  52.,  62.,  79.,  92.,  96.,  94.],\n",
       "       [ 82.,  59.,  47.,  65.,  89.,  96.,  94.,  97.],\n",
       "       [ 81.,  68.,  60.,  71.,  87.,  93.,  95.,  98.],\n",
       "       [ 72.,  77.,  78.,  75.,  77.,  88.,  96.,  96.],\n",
       "       [ 72.,  84.,  92.,  82.,  72.,  82.,  94.,  94.],\n",
       "       [ 80.,  89.,  98.,  90.,  74.,  76.,  90.,  93.],\n",
       "       [ 88.,  92.,  99., 100.,  90.,  78.,  73.,  72.],\n",
       "       [ 97.,  98.,  98.,  97.,  96.,  87.,  69.,  53.]])"
      ]
     },
     "execution_count": 19,
     "metadata": {},
     "output_type": "execute_result"
    }
   ],
   "source": [
    "#Nilai warna dikurangi 128 \n",
    "makroblok -= 128\n",
    "makroblok"
   ]
  },
  {
   "cell_type": "code",
   "execution_count": 20,
   "metadata": {},
   "outputs": [
    {
     "data": {
      "text/plain": [
       "array([[ 1.21800000e+03, -1.50175913e+02,  5.90738971e+01,\n",
       "         7.81399290e+01,  1.27279221e+01,  4.51653829e+00,\n",
       "        -1.50820343e+00, -9.73425554e-01],\n",
       "       [ 1.25800000e+03, -1.51436650e+02,  5.38476453e+01,\n",
       "         1.11496563e+02,  5.23259018e+01, -7.04153031e+00,\n",
       "         6.56580968e-01, -1.36912190e+00],\n",
       "       [ 1.30600000e+03, -1.21156584e+02,  4.64566090e+01,\n",
       "         6.47749865e+01,  2.96984848e+01, -5.40997163e+00,\n",
       "        -2.40488649e+00, -1.24143805e-01],\n",
       "       [ 1.31800000e+03, -9.05653047e+01,  3.49217131e+01,\n",
       "        -1.06591226e+01, -2.68700577e+01,  3.37478458e+00,\n",
       "        -6.88443619e-01, -9.58917726e-01],\n",
       "       [ 1.34400000e+03, -4.47707335e+01,  2.52345762e+01,\n",
       "        -6.34099668e+01, -4.52548340e+01,  1.57018140e+01,\n",
       "         1.79336612e+00, -4.58882870e-01],\n",
       "       [ 1.38000000e+03,  3.52462404e+00,  2.04566659e+01,\n",
       "        -8.21608291e+01, -2.26274170e+01,  2.27077463e+01,\n",
       "        -2.35049354e+00,  1.23832606e+00],\n",
       "       [ 1.38400000e+03,  9.02167305e+01, -6.46171743e+01,\n",
       "        -3.31107911e+01,  1.13137085e+01,  5.33159257e+00,\n",
       "        -7.87897162e-01,  4.37239558e-01],\n",
       "       [ 1.39000000e+03,  1.47147068e+02, -9.32302434e+01,\n",
       "         3.91656706e+01, -1.27279221e+01, -2.04043945e+00,\n",
       "         3.48887987e-01,  1.27563573e+00]])"
      ]
     },
     "execution_count": 20,
     "metadata": {},
     "output_type": "execute_result"
    }
   ],
   "source": [
    "#Nilai warna dihitung dengan rumus DCT\n",
    "img_dct = fft.dct(makroblok)\n",
    "img_dct"
   ]
  },
  {
   "cell_type": "code",
   "execution_count": 21,
   "metadata": {},
   "outputs": [
    {
     "data": {
      "text/plain": [
       "array([[ 16.,  11.,  10.,  16.,  24.,  40.,  51.,  61.],\n",
       "       [ 12.,  12.,  14.,  19.,  26.,  58.,  60.,  55.],\n",
       "       [ 14.,  13.,  16.,  24.,  40.,  57.,  69.,  56.],\n",
       "       [ 14.,  17.,  22.,  29.,  51.,  87.,  80.,  62.],\n",
       "       [ 18.,  22.,  37.,  56.,  68., 109., 103.,  77.],\n",
       "       [ 24.,  35.,  55.,  64.,  81., 104., 103.,  92.],\n",
       "       [ 49.,  64.,  78.,  77., 103., 121., 120., 101.],\n",
       "       [ 72.,  92.,  95.,  98., 112., 100., 103.,  99.]])"
      ]
     },
     "execution_count": 21,
     "metadata": {},
     "output_type": "execute_result"
    }
   ],
   "source": [
    "#Inisiasi tabel kuantisasi\n",
    "tabel_kuantisasi = np.matrix('16 11 10 16 24 40 51 61;\\\n",
    " 12 12 14 19 26 58 60 55;\\\n",
    " 14 13 16 24 40 57 69 56;\\\n",
    " 14 17 22 29 51 87 80 62;\\\n",
    " 18 22 37 56 68 109 103 77;\\\n",
    " 24 35 55 64 81 104 103 92;\\\n",
    " 49 64 78 77 103 121 120 101;\\\n",
    " 72 92 95 98 112 100 103 99').astype('float')\n",
    "tabel_kuantisasi = np.array(tabel_kuantisasi.tolist())\n",
    "tabel_kuantisasi"
   ]
  },
  {
   "cell_type": "code",
   "execution_count": 22,
   "metadata": {},
   "outputs": [
    {
     "data": {
      "text/plain": [
       "array([[ 76., -14.,   6.,   5.,   1.,   0.,   0.,   0.],\n",
       "       [105., -13.,   4.,   6.,   2.,   0.,   0.,   0.],\n",
       "       [ 93.,  -9.,   3.,   3.,   1.,   0.,   0.,   0.],\n",
       "       [ 94.,  -5.,   2.,   0.,  -1.,   0.,   0.,   0.],\n",
       "       [ 75.,  -2.,   1.,  -1.,  -1.,   0.,   0.,   0.],\n",
       "       [ 58.,   0.,   0.,  -1.,   0.,   0.,   0.,   0.],\n",
       "       [ 28.,   1.,  -1.,   0.,   0.,   0.,   0.,   0.],\n",
       "       [ 19.,   2.,  -1.,   0.,   0.,   0.,   0.,   0.]])"
      ]
     },
     "execution_count": 22,
     "metadata": {},
     "output_type": "execute_result"
    }
   ],
   "source": [
    "#Nilai warna dibagi dengan nilai pada tabel kuantisasi dan dibulatkan\n",
    "for i in range (8) :\n",
    "    for j in range (8) :\n",
    "        img_dct[i][j] = round(img_dct[i][j]/tabel_kuantisasi[i][j])\n",
    "img_dct"
   ]
  },
  {
   "cell_type": "markdown",
   "metadata": {},
   "source": [
    "#### Proses Dekompresi"
   ]
  },
  {
   "cell_type": "code",
   "execution_count": 23,
   "metadata": {},
   "outputs": [
    {
     "data": {
      "text/plain": [
       "array([[1216., -154.,   60.,   80.,   24.,    0.,    0.,    0.],\n",
       "       [1260., -156.,   56.,  114.,   52.,    0.,    0.,    0.],\n",
       "       [1302., -117.,   48.,   72.,   40.,    0.,    0.,    0.],\n",
       "       [1316.,  -85.,   44.,    0.,  -51.,    0.,    0.,    0.],\n",
       "       [1350.,  -44.,   37.,  -56.,  -68.,    0.,    0.,    0.],\n",
       "       [1392.,    0.,    0.,  -64.,    0.,    0.,    0.,    0.],\n",
       "       [1372.,   64.,  -78.,    0.,    0.,    0.,    0.,    0.],\n",
       "       [1368.,  184.,  -95.,    0.,    0.,    0.,    0.,    0.]])"
      ]
     },
     "execution_count": 23,
     "metadata": {},
     "output_type": "execute_result"
    }
   ],
   "source": [
    "#Nilai warna dikalikan dengan tabel kuantisasi\n",
    "img_idct = img_dct\n",
    "for i in range (8) :\n",
    "    for j in range (8) :\n",
    "        img_idct[i][j] = img_dct[i][j]*tabel_kuantisasi[i][j]\n",
    "img_idct"
   ]
  },
  {
   "cell_type": "code",
   "execution_count": 24,
   "metadata": {},
   "outputs": [
    {
     "data": {
      "text/plain": [
       "array([[ 74.,  59.,  51.,  62.,  81.,  92.,  95.,  96.],\n",
       "       [ 83.,  58.,  47.,  65.,  89.,  96.,  96.,  97.],\n",
       "       [ 84.,  66.,  59.,  72.,  87.,  92.,  94.,  97.],\n",
       "       [ 72.,  80.,  79.,  71.,  75.,  91.,  98.,  93.],\n",
       "       [ 71.,  89.,  92.,  77.,  71.,  85.,  95.,  94.],\n",
       "       [ 80.,  89.,  95.,  91.,  83.,  79.,  85.,  94.],\n",
       "       [ 85.,  89.,  94.,  96.,  93.,  85.,  75.,  69.],\n",
       "       [ 97., 100., 103., 101.,  92.,  77.,  62.,  52.]])"
      ]
     },
     "execution_count": 24,
     "metadata": {},
     "output_type": "execute_result"
    }
   ],
   "source": [
    "#Nilai warna dihitung dengan rumus Invers DCT dan dibulatkan\n",
    "img_idct = fft.idct(img_dct)\n",
    "for i in range (8) :\n",
    "    for j in range (8) :\n",
    "        img_idct[i][j] = round(img_idct[i][j])\n",
    "img_idct"
   ]
  },
  {
   "cell_type": "code",
   "execution_count": 25,
   "metadata": {},
   "outputs": [
    {
     "data": {
      "text/plain": [
       "array([[202., 187., 179., 190., 209., 220., 223., 224.],\n",
       "       [211., 186., 175., 193., 217., 224., 224., 225.],\n",
       "       [212., 194., 187., 200., 215., 220., 222., 225.],\n",
       "       [200., 208., 207., 199., 203., 219., 226., 221.],\n",
       "       [199., 217., 220., 205., 199., 213., 223., 222.],\n",
       "       [208., 217., 223., 219., 211., 207., 213., 222.],\n",
       "       [213., 217., 222., 224., 221., 213., 203., 197.],\n",
       "       [225., 228., 231., 229., 220., 205., 190., 180.]])"
      ]
     },
     "execution_count": 25,
     "metadata": {},
     "output_type": "execute_result"
    }
   ],
   "source": [
    "#Nilai warna ditambahkan dengan nilai 128\n",
    "img_idct += 128\n",
    "after = img_idct\n",
    "img_idct"
   ]
  },
  {
   "cell_type": "code",
   "execution_count": 26,
   "metadata": {},
   "outputs": [
    {
     "data": {
      "text/plain": [
       "True"
      ]
     },
     "execution_count": 26,
     "metadata": {},
     "output_type": "execute_result"
    }
   ],
   "source": [
    "#Unduh image sebelum dan sesudah kompresi\n",
    "cv2.imwrite('img_before.jpg', before)\n",
    "cv2.imwrite('img_after.jpg', after)"
   ]
  },
  {
   "cell_type": "code",
   "execution_count": 27,
   "metadata": {},
   "outputs": [
    {
     "data": {
      "text/plain": [
       "array([[202., 188., 180., 190., 207., 220., 224., 222.],\n",
       "       [210., 187., 175., 193., 217., 224., 222., 225.],\n",
       "       [209., 196., 188., 199., 215., 221., 223., 226.],\n",
       "       [200., 205., 206., 203., 205., 216., 224., 224.],\n",
       "       [200., 212., 220., 210., 200., 210., 222., 222.],\n",
       "       [208., 217., 226., 218., 202., 204., 218., 221.],\n",
       "       [216., 220., 227., 228., 218., 206., 201., 200.],\n",
       "       [225., 226., 226., 225., 224., 215., 197., 181.]])"
      ]
     },
     "execution_count": 27,
     "metadata": {},
     "output_type": "execute_result"
    }
   ],
   "source": [
    "before"
   ]
  },
  {
   "cell_type": "code",
   "execution_count": 28,
   "metadata": {},
   "outputs": [
    {
     "data": {
      "image/png": "[encoded data removed]",
      "text/plain": [
       "<Figure size 432x288 with 1 Axes>"
      ]
     },
     "metadata": {
      "needs_background": "light"
     },
     "output_type": "display_data"
    }
   ],
   "source": [
    "img_before = mpimg.imread('img_before.jpg')\n",
    "plot_before = plt.imshow(img_before, cmap=\"gray\")\n",
    "plt.show()"
   ]
  },
  {
   "cell_type": "code",
   "execution_count": null,
   "metadata": {},
   "outputs": [],
   "source": [
    "after"
   ]
  },
  {
   "cell_type": "code",
   "execution_count": 29,
   "metadata": {},
   "outputs": [
    {
     "data": {
      "image/png": "[encoded data removed]",
      "text/plain": [
       "<Figure size 432x288 with 1 Axes>"
      ]
     },
     "metadata": {
      "needs_background": "light"
     },
     "output_type": "display_data"
    }
   ],
   "source": [
    "img_after = mpimg.imread('img_after.jpg')\n",
    "plot_after = plt.imshow(img_after, cmap=\"gray\")\n",
    "plt.show()"
   ]
  }
 ],
 "metadata": {
  "kernelspec": {
   "display_name": "Python 3.9.0 64-bit",
   "language": "python",
   "name": "python3"
  },
  "language_info": {
   "codemirror_mode": {
    "name": "ipython",
    "version": 3
   },
   "file_extension": ".py",
   "mimetype": "text/x-python",
   "name": "python",
   "nbconvert_exporter": "python",
   "pygments_lexer": "ipython3",
   "version": "3.9.0"
  },
  "orig_nbformat": 4,
  "vscode": {
   "interpreter": {
    "hash": "221492ac70ca7594750519da7ca63619b9a8ebaf3ad3eab6ee46312c8ef2d10e"
   }
  }
 },
 "nbformat": 4,
 "nbformat_minor": 2
}
